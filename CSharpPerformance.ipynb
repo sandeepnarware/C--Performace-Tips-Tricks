{
 "cells": [
  {
   "attachments": {},
   "cell_type": "markdown",
   "metadata": {
    "dotnet_interactive": {
     "language": "csharp"
    },
    "polyglot_notebook": {
     "kernelName": "csharp"
    }
   },
   "source": [
    "1. String vs String builder\n",
    "    - A string is an immutable sequence of characters. This means that once a string is created, it cannot be modified. Whenever a change is made to a string, a new string is created in   memory.   This can be inefficient if you need to perform a lot of manipulations on the string.\n",
    "    - A StringBuilder, on the other hand, is a mutable sequence of characters. This means that you can append, insert, or remove characters from the StringBuilder without creating a new object\n",
    "\n",
    "    Use a string when:\n",
    "    - The string is small and won't be modified frequently.\n",
    "    - You only need to perform a few manipulations on the string.\n",
    "    - The string is a constant or a literal.\n",
    "\n",
    "    Use a StringBuilder when:\n",
    "    - The string is large or you need to perform many manipulations on it.\n",
    "    - You need to concatenate multiple strings together.\n",
    "    - You need to insert or remove characters from the string.\n",
    "    - You need to build a complex string dynamically."
   ]
  },
  {
   "cell_type": "code",
   "execution_count": 1,
   "metadata": {
    "dotnet_interactive": {
     "language": "csharp"
    },
    "polyglot_notebook": {
     "kernelName": "csharp"
    },
    "vscode": {
     "languageId": "polyglot-notebook"
    }
   },
   "outputs": [
    {
     "name": "stdout",
     "output_type": "stream",
     "text": [
      "String concatenation with + operator took 3246 ms\n",
      "StringBuilder concatenation took 0 ms\n"
     ]
    }
   ],
   "source": [
    "using System.Diagnostics;\n",
    "using System.Text;\n",
    "\n",
    "const int iterations = 100000;            \n",
    "\n",
    "var stopwatch = new Stopwatch();\n",
    "\n",
    "// Concatenating strings using the + operator\n",
    "stopwatch.Start();\n",
    "string result = \"\";\n",
    "for (int i = 0; i < iterations; i++)\n",
    "{\n",
    "    result += \"a\";\n",
    "}\n",
    "stopwatch.Stop();\n",
    "Console.WriteLine(\"String concatenation with + operator took {0} ms\", stopwatch.ElapsedMilliseconds);            \n",
    "\n",
    "// Concatenating strings using StringBuilder\n",
    "stopwatch.Restart();\n",
    "var stringBuilder = new StringBuilder();\n",
    "for (int i = 0; i < iterations; i++)\n",
    "{\n",
    "    stringBuilder.Append(\"a\");\n",
    "}\n",
    "string result2 = stringBuilder.ToString();\n",
    "stopwatch.Stop();\n",
    "Console.WriteLine(\"StringBuilder concatenation took {0} ms\", stopwatch.ElapsedMilliseconds);"
   ]
  },
  {
   "attachments": {},
   "cell_type": "markdown",
   "metadata": {
    "dotnet_interactive": {
     "language": "csharp"
    },
    "polyglot_notebook": {
     "kernelName": "csharp"
    }
   },
   "source": [
    "2. String Comparison\n",
    "- In programming, the equality operator (==), the String.Equals method, and the String.Compare method are used to compare strings. Although they may seem similar, there are some key differences between them.\n",
    "- The equality operator (==) is used to check if two strings have the same value. It returns a Boolean value (true or false) indicating whether the two strings are equal or not. The equality operator compares the contents of the strings rather than the objects themselves.\n",
    "- The String.Equals method is used to compare the value of two strings. It returns a Boolean value (true or false) indicating whether the two strings are equal or not. You can use this method to perform case-insensitive comparisons, cultural comparisons, and ordinal comparisons. (cultural comparisons are used to compare strings in a culture-specific manner, while ordinal comparisons are used to compare strings based on the Unicode values of their characters, without regard to cultural settings. Cultural comparisons are useful when comparing strings that contain characters that are specific to a particular culture, while ordinal comparisons are useful when you need to perform fast, culture-insensitive string comparisons.)\n",
    "- The String.Compare method is used to compare two strings and returns an integer value indicating the relationship between the two strings. "
   ]
  },
  {
   "cell_type": "code",
   "execution_count": 2,
   "metadata": {
    "dotnet_interactive": {
     "language": "csharp"
    },
    "polyglot_notebook": {
     "kernelName": "csharp"
    },
    "vscode": {
     "languageId": "polyglot-notebook"
    }
   },
   "outputs": [
    {
     "name": "stdout",
     "output_type": "stream",
     "text": [
      "Comparing 10000000 strings:\n",
      "\"=\" operator took 91.3685 ms\n",
      "String.Compare took 556.4524 ms\n",
      "String.Equals took 88.1851 ms\n"
     ]
    }
   ],
   "source": [
    "using System.Diagnostics;\n",
    "using System.Text;\n",
    "\n",
    "const int N = 10000000;\n",
    "string[] strings = new string[N];\n",
    "\n",
    "for (int i = 0; i < N; i++)\n",
    "{\n",
    "    strings[i] = Guid.NewGuid().ToString();\n",
    "}\n",
    "\n",
    "Console.WriteLine($\"Comparing {N} strings:\");\n",
    "\n",
    "// Measure the time taken by the \"=\" operator\n",
    "var stopwatch = Stopwatch.StartNew();\n",
    "for (int i = 0; i < N; i++)\n",
    "{\n",
    "    bool isEqual = strings[i] == strings[0];\n",
    "}\n",
    "stopwatch.Stop();\n",
    "Console.WriteLine($\"\\\"=\\\" operator took {stopwatch.Elapsed.TotalMilliseconds} ms\");\n",
    "\n",
    "// Measure the time taken by the String.Compare method\n",
    "stopwatch.Restart();\n",
    "for (int i = 0; i < N; i++)\n",
    "{\n",
    "    int comparison = string.Compare(strings[i], strings[0]);\n",
    "    bool isEqual = comparison == 0;\n",
    "}\n",
    "stopwatch.Stop();\n",
    "Console.WriteLine($\"String.Compare took {stopwatch.Elapsed.TotalMilliseconds} ms\");\n",
    "\n",
    "// Measure the time taken by the String.Equals method\n",
    "stopwatch.Restart();\n",
    "for (int i = 0; i < N; i++)\n",
    "{\n",
    "    bool isEqual = string.Equals(strings[i], strings[0]);\n",
    "}\n",
    "stopwatch.Stop();\n",
    "Console.WriteLine($\"String.Equals took {stopwatch.Elapsed.TotalMilliseconds} ms\");\n"
   ]
  },
  {
   "attachments": {},
   "cell_type": "markdown",
   "metadata": {
    "dotnet_interactive": {
     "language": "csharp"
    },
    "polyglot_notebook": {
     "kernelName": "csharp"
    }
   },
   "source": [
    "2.1. What if strings are in difference cases (upper case and lower case)"
   ]
  },
  {
   "cell_type": "code",
   "execution_count": 3,
   "metadata": {
    "dotnet_interactive": {
     "language": "csharp"
    },
    "polyglot_notebook": {
     "kernelName": "csharp"
    },
    "vscode": {
     "languageId": "polyglot-notebook"
    }
   },
   "outputs": [
    {
     "name": "stdout",
     "output_type": "stream",
     "text": [
      "Comparing 10000000 strings:\n",
      "\"=\" operator took 580.5158 ms\n",
      "String.Compare took 157.6456 ms\n",
      "String.Equals took 428.9113 ms\n"
     ]
    }
   ],
   "source": [
    "const int N = 10000000;\n",
    "string[] strings = new string[N];\n",
    "\n",
    "for (int i = 0; i < N; i++)\n",
    "{\n",
    "    strings[i] = Guid.NewGuid().ToString();\n",
    "}\n",
    "\n",
    "Console.WriteLine($\"Comparing {N} strings:\");\n",
    "\n",
    "// Measure the time taken by the \"=\" operator\n",
    "var stopwatch = Stopwatch.StartNew();\n",
    "for (int i = 0; i < N; i++)\n",
    "{\n",
    "    bool isEqual = strings[i].ToLower() == strings[0].ToLower();\n",
    "}\n",
    "stopwatch.Stop();\n",
    "Console.WriteLine($\"\\\"=\\\" operator took {stopwatch.Elapsed.TotalMilliseconds} ms\");\n",
    "\n",
    "// Measure the time taken by the String.Compare method\n",
    "stopwatch.Restart();\n",
    "for (int i = 0; i < N; i++)\n",
    "{\n",
    "    int comparison = string.Compare(strings[i], strings[0], StringComparison.OrdinalIgnoreCase);\n",
    "    bool isEqual = comparison == 0;\n",
    "}\n",
    "stopwatch.Stop();\n",
    "Console.WriteLine($\"String.Compare took {stopwatch.Elapsed.TotalMilliseconds} ms\");\n",
    "\n",
    "// Measure the time taken by the String.Equals method\n",
    "stopwatch.Restart();\n",
    "for (int i = 0; i < N; i++)\n",
    "{\n",
    "    bool isEqual = string.Equals(strings[i], strings[0], StringComparison.InvariantCultureIgnoreCase);\n",
    "}\n",
    "stopwatch.Stop();\n",
    "Console.WriteLine($\"String.Equals took {stopwatch.Elapsed.TotalMilliseconds} ms\");"
   ]
  },
  {
   "attachments": {},
   "cell_type": "markdown",
   "metadata": {
    "dotnet_interactive": {
     "language": "csharp"
    },
    "polyglot_notebook": {
     "kernelName": "csharp"
    }
   },
   "source": [
    "3. Getting distinct records from a list\n",
    "- A HashSet is an unordered collection of unique elements. It provides constant-time performance for the basic operations of add, remove, and contains, assuming that the hash function disperses the elements properly among the buckets. A HashSet is useful when you need to check if an element exists in the collection or when you need to eliminate duplicates from a collection.\n",
    "- A List is an ordered collection of elements. It provides constant-time performance for adding and removing elements from the end of the list, but linear-time performance for operations that require moving elements around in the list, such as inserting or removing elements from the middle of the list. A List is useful when you need to maintain the order of the elements in the collection or when you need to access elements by their index."
   ]
  },
  {
   "cell_type": "code",
   "execution_count": 4,
   "metadata": {
    "dotnet_interactive": {
     "language": "csharp"
    },
    "polyglot_notebook": {
     "kernelName": "csharp"
    },
    "vscode": {
     "languageId": "polyglot-notebook"
    }
   },
   "outputs": [
    {
     "name": "stdout",
     "output_type": "stream",
     "text": [
      "List distinct count: 9, time taken: 00:00:00.0007940\n",
      "HashSet distinct count: 9, time taken: 00:00:00.0001407\n"
     ]
    }
   ],
   "source": [
    "// Create a list of integers with duplicates\n",
    "List<int> list = new List<int> { 1, 2, 3, 4, 5, 6, 7, 8, 9, 1, 2, 3, 4, 5, 6, 7, 8, 9 };\n",
    "\n",
    "// Measure the time taken to remove duplicates from the list\n",
    "Stopwatch listStopwatch = Stopwatch.StartNew();\n",
    "List<int> distinctList = new List<int>(list.Distinct());\n",
    "listStopwatch.Stop();\n",
    "\n",
    "// Measure the time taken to remove duplicates from the hash set\n",
    "Stopwatch hashSetStopwatch = Stopwatch.StartNew();\n",
    "HashSet<int> distinctHashSet = new HashSet<int>(list);\n",
    "hashSetStopwatch.Stop();\n",
    "\n",
    "// Print the results\n",
    "Console.WriteLine($\"List distinct count: {distinctList.Count}, time taken: {listStopwatch.Elapsed}\");\n",
    "Console.WriteLine($\"HashSet distinct count: {distinctHashSet.Count}, time taken: {hashSetStopwatch.Elapsed}\");"
   ]
  },
  {
   "attachments": {},
   "cell_type": "markdown",
   "metadata": {
    "dotnet_interactive": {
     "language": "csharp"
    },
    "polyglot_notebook": {
     "kernelName": "csharp"
    }
   },
   "source": [
    "4. List vs Linked List\n",
    "- A linked list is a data structure in C# that consists of a sequence of elements, called nodes, where each node contains a value and a reference to the next node in the sequence. Unlike an array or a List, a linked list does not have a fixed size, and elements can be added or removed from the list at any position."
   ]
  },
  {
   "cell_type": "code",
   "execution_count": 5,
   "metadata": {
    "dotnet_interactive": {
     "language": "csharp"
    },
    "polyglot_notebook": {
     "kernelName": "csharp"
    },
    "vscode": {
     "languageId": "polyglot-notebook"
    }
   },
   "outputs": [
    {
     "name": "stdout",
     "output_type": "stream",
     "text": [
      "List<int> Elapsed Time (write): 00:00:00.0006794\n",
      "List<int> Elapsed Time (read): 00:00:00.0005183\n",
      "List<int> Elapsed Time (insert): 00:00:00.0001006\n",
      "LinkedList<int> Elapsed Time (write): 00:00:00.0038375\n",
      "LinkedList<int> Elapsed Time (read): 00:00:00.0012877\n",
      "LinkedList<int> Elapsed Time (insert): 00:00:00.0003594\n"
     ]
    }
   ],
   "source": [
    "const int iterations = 100000;\n",
    "\n",
    "// Test with List<int>\n",
    "var list = new List<int>();\n",
    "var listWatch = Stopwatch.StartNew();\n",
    "for (int i = 0; i < iterations; i++)\n",
    "{\n",
    "    list.Add(i);\n",
    "}\n",
    "listWatch.Stop();\n",
    "Console.WriteLine($\"List<int> Elapsed Time (write): {listWatch.Elapsed}\");\n",
    "\n",
    "listWatch.Restart();\n",
    "foreach (var item in list)\n",
    "{\n",
    "    // do magic here\n",
    "}\n",
    "\n",
    "listWatch.Stop();\n",
    "Console.WriteLine($\"List<int> Elapsed Time (read): {listWatch.Elapsed}\");\n",
    "\n",
    "\n",
    "listWatch.Restart();\n",
    "for (int i = 1; i <= 10; i++)\n",
    "{  \n",
    "    list.Insert((i * 100), 100);\n",
    "}\n",
    "\n",
    "listWatch.Stop();\n",
    "Console.WriteLine($\"List<int> Elapsed Time (insert): {listWatch.Elapsed}\");\n",
    "\n",
    "\n",
    "// Test with LinkedList<int>\n",
    "var linkedList = new LinkedList<int>();\n",
    "var linkedListWatch = Stopwatch.StartNew();\n",
    "for (int i = 0; i < iterations; i++)\n",
    "{\n",
    "    linkedList.AddLast(i);\n",
    "}\n",
    "linkedListWatch.Stop();\n",
    "Console.WriteLine($\"LinkedList<int> Elapsed Time (write): {linkedListWatch.Elapsed}\");\n",
    "\n",
    "linkedListWatch.Restart();\n",
    "foreach (var item in linkedList)\n",
    "{\n",
    "    // do magic here\n",
    "}\n",
    "linkedListWatch.Stop();\n",
    "Console.WriteLine($\"LinkedList<int> Elapsed Time (read): {linkedListWatch.Elapsed}\");\n",
    "\n",
    "\n",
    "linkedListWatch.Restart();\n",
    "for (int i = 1; i <= 10; i++)\n",
    "{\n",
    "    var element = linkedList.Find(i * 100);\n",
    "    linkedList.AddAfter(element, 100);\n",
    "}\n",
    "linkedListWatch.Stop();\n",
    "Console.WriteLine($\"LinkedList<int> Elapsed Time (insert): {linkedListWatch.Elapsed}\");"
   ]
  },
  {
   "attachments": {},
   "cell_type": "markdown",
   "metadata": {
    "dotnet_interactive": {
     "language": "csharp"
    },
    "polyglot_notebook": {
     "kernelName": "csharp"
    }
   },
   "source": [
    "6. Using List Optimally \n",
    "- If you know the how many object you need to insert into the list, use capacity while initializing the list\n",
    "- list uses array internally  to store the data\n",
    "- default capacity of the list is 0 as soon as we add one element an array of 4 capacity is created, as soon as we try to add 5th element a new array of 8 capacity is created and data is copied in that and then 5th element gets added"
   ]
  },
  {
   "cell_type": "code",
   "execution_count": 13,
   "metadata": {
    "dotnet_interactive": {
     "language": "csharp"
    },
    "polyglot_notebook": {
     "kernelName": "csharp"
    },
    "vscode": {
     "languageId": "polyglot-notebook"
    }
   },
   "outputs": [
    {
     "name": "stdout",
     "output_type": "stream",
     "text": [
      "List without capacity took 6 ms\n",
      "List with capacity took 5 ms\n"
     ]
    }
   ],
   "source": [
    "const int iterations = 1000000;\n",
    "\n",
    "var stopwatch = new Stopwatch();\n",
    "\n",
    "// List without capacity\n",
    "stopwatch.Start();\n",
    "var list1 = new List<int>();\n",
    "for (int i = 0; i < iterations; i++)\n",
    "{\n",
    "    list1.Add(i);\n",
    "}\n",
    "stopwatch.Stop();\n",
    "Console.WriteLine(\"List without capacity took {0} ms\", stopwatch.ElapsedMilliseconds);\n",
    "\n",
    "// List with capacity\n",
    "stopwatch.Restart();\n",
    "var list2 = new List<int>(iterations);\n",
    "for (int i = 0; i < iterations; i++)\n",
    "{\n",
    "    list2.Add(i);\n",
    "}\n",
    "stopwatch.Stop();\n",
    "Console.WriteLine(\"List with capacity took {0} ms\", stopwatch.ElapsedMilliseconds);"
   ]
  },
  {
   "attachments": {},
   "cell_type": "markdown",
   "metadata": {
    "dotnet_interactive": {
     "language": "csharp"
    },
    "polyglot_notebook": {
     "kernelName": "csharp"
    }
   },
   "source": [
    "6. Exception vs Validation : In this code, we have two loops that run for a large number of iterations. The first loop uses exception handling to handle invalid input, while the second loop uses input validation to check whether the input is valid before processing it."
   ]
  },
  {
   "cell_type": "code",
   "execution_count": 7,
   "metadata": {
    "dotnet_interactive": {
     "language": "csharp"
    },
    "polyglot_notebook": {
     "kernelName": "csharp"
    },
    "vscode": {
     "languageId": "polyglot-notebook"
    }
   },
   "outputs": [
    {
     "name": "stdout",
     "output_type": "stream",
     "text": [
      "Time taken with exception handling: 12 ms\n",
      "Time taken with input validation: 0 ms\n"
     ]
    }
   ],
   "source": [
    "int iterations = 1000;\n",
    "\n",
    "Stopwatch sw = new Stopwatch();\n",
    "sw.Start();\n",
    "\n",
    "for (int i = 0; i < iterations; i++)\n",
    "{\n",
    "    // Using exception handling\n",
    "    try\n",
    "    {\n",
    "        int num = int.Parse(\"not an integer\");\n",
    "    }\n",
    "    catch (FormatException)\n",
    "    {\n",
    "        // Ignore the exception\n",
    "    }\n",
    "}\n",
    "\n",
    "sw.Stop();\n",
    "Console.WriteLine($\"Time taken with exception handling: {sw.ElapsedMilliseconds} ms\");\n",
    "\n",
    "sw.Reset();\n",
    "sw.Start();\n",
    "\n",
    "for (int i = 0; i < iterations; i++)\n",
    "{\n",
    "    // Using input validation\n",
    "    int num;\n",
    "    if (int.TryParse(\"not an integer\", out num))\n",
    "    {\n",
    "        // Use the parsed integer value\n",
    "    }\n",
    "}\n",
    "\n",
    "sw.Stop();\n",
    "Console.WriteLine($\"Time taken with input validation: {sw.ElapsedMilliseconds} ms\");"
   ]
  },
  {
   "attachments": {},
   "cell_type": "markdown",
   "metadata": {
    "dotnet_interactive": {
     "language": "csharp"
    },
    "polyglot_notebook": {
     "kernelName": "csharp"
    }
   },
   "source": [
    "7. If you have a collection of elements and you need to run check contains condition multiple times the instead of using list use hashset"
   ]
  },
  {
   "cell_type": "code",
   "execution_count": 14,
   "metadata": {
    "dotnet_interactive": {
     "language": "csharp"
    },
    "polyglot_notebook": {
     "kernelName": "csharp"
    },
    "vscode": {
     "languageId": "polyglot-notebook"
    }
   },
   "outputs": [
    {
     "name": "stdout",
     "output_type": "stream",
     "text": [
      "Time taken to search in list: 4002 ms\n",
      "Time taken to search in hashset: 10 ms\n"
     ]
    }
   ],
   "source": [
    "using System;\n",
    "using System.Collections.Generic;\n",
    "using System.Diagnostics;\n",
    "\n",
    "const int N = 1000000;\n",
    "const int M = 100000;\n",
    "Random rnd = new Random();\n",
    "List<int> list = new List<int>(N);\n",
    "HashSet<int> hashSet = new HashSet<int>(N);\n",
    "\n",
    "// Populate the list and hashset with random integers\n",
    "for (int i = 0; i < N; i++)\n",
    "{\n",
    "    int num = rnd.Next(N);\n",
    "    list.Add(num);\n",
    "    hashSet.Add(num);\n",
    "}\n",
    "\n",
    "// Measure the time taken to search for M random integers in the list\n",
    "Stopwatch sw1 = new Stopwatch();\n",
    "sw1.Start();\n",
    "for (int i = 0; i < M; i++)\n",
    "{\n",
    "    int num = rnd.Next(N);\n",
    "    bool found = list.Contains(num);\n",
    "}\n",
    "sw1.Stop();\n",
    "Console.WriteLine($\"Time taken to search in list: {sw1.ElapsedMilliseconds} ms\");\n",
    "\n",
    "// Measure the time taken to search for M random integers in the hashset\n",
    "Stopwatch sw2 = new Stopwatch();\n",
    "sw2.Start();\n",
    "for (int i = 0; i < M; i++)\n",
    "{\n",
    "    int num = rnd.Next(N);\n",
    "    bool found = hashSet.Contains(num);\n",
    "}\n",
    "sw2.Stop();\n",
    "Console.WriteLine($\"Time taken to search in hashset: {sw2.ElapsedMilliseconds} ms\");"
   ]
  },
  {
   "attachments": {},
   "cell_type": "markdown",
   "metadata": {
    "dotnet_interactive": {
     "language": "csharp"
    },
    "polyglot_notebook": {
     "kernelName": "csharp"
    }
   },
   "source": [
    "8. Parallelization of Loops : It is often necessary to iterate over a collection using a foreach loop and do some logic for each item. if its possible you could use Parallelization to make is faster"
   ]
  },
  {
   "cell_type": "code",
   "execution_count": 23,
   "metadata": {
    "dotnet_interactive": {
     "language": "csharp"
    },
    "polyglot_notebook": {
     "kernelName": "csharp"
    },
    "vscode": {
     "languageId": "polyglot-notebook"
    }
   },
   "outputs": [
    {
     "name": "stdout",
     "output_type": "stream",
     "text": [
      "Time taken using foreach: 15893 ms\n",
      "Time taken using Parallel.ForEach: 2389 ms\n"
     ]
    }
   ],
   "source": [
    "using System;\n",
    "using System.Collections.Generic;\n",
    "using System.Diagnostics;\n",
    "using System.Threading;\n",
    "\n",
    "const int N = 1000;\n",
    "List<int> list = new List<int>(N);\n",
    "\n",
    "// Populate the list with random integers\n",
    "Random rnd = new Random();\n",
    "for (int i = 0; i < N; i++)\n",
    "{\n",
    "    list.Add(rnd.Next(1000));\n",
    "}\n",
    "\n",
    "// Measure the time taken using foreach\n",
    "Stopwatch sw1 = new Stopwatch();\n",
    "sw1.Start();\n",
    "foreach (int num in list)\n",
    "{\n",
    "    Thread.Sleep(1);\n",
    "}\n",
    "sw1.Stop();\n",
    "Console.WriteLine($\"Time taken using foreach: {sw1.ElapsedMilliseconds} ms\");\n",
    "\n",
    "// Measure the time taken to using Parallel.ForEach\n",
    "Stopwatch sw2 = new Stopwatch();\n",
    "sw2.Start();\n",
    "Parallel.ForEach(list, (num) =>\n",
    "{\n",
    "    Thread.Sleep(1);\n",
    "});\n",
    "sw2.Stop();\n",
    "Console.WriteLine($\"Time taken using Parallel.ForEach: {sw2.ElapsedMilliseconds} ms\");\n",
    "\n",
    "        "
   ]
  },
  {
   "cell_type": "markdown",
   "metadata": {
    "dotnet_interactive": {
     "language": "csharp"
    },
    "polyglot_notebook": {
     "kernelName": "csharp"
    }
   },
   "source": []
  },
  {
   "cell_type": "code",
   "execution_count": null,
   "metadata": {
    "dotnet_interactive": {
     "language": "csharp"
    },
    "polyglot_notebook": {
     "kernelName": "csharp"
    },
    "vscode": {
     "languageId": "polyglot-notebook"
    }
   },
   "outputs": [],
   "source": [
    "static void RunTest()\n",
    "{\n",
    "    int n = 10000000;\n",
    "    int[] array = new int[n];\n",
    "    for (int i = 0; i < n; i++)\n",
    "    {\n",
    "        array[i] = i;\n",
    "    }\n",
    "\n",
    "    var sw = new Stopwatch();\n",
    "\n",
    "    // List<T> version\n",
    "    var list = new System.Collections.Generic.List<int>(array);\n",
    "    sw.Start();\n",
    "    int sum1 = 0;\n",
    "    for (int i = 0; i < list.Count; i++)\n",
    "    {\n",
    "        sum1 += list[i];\n",
    "    }\n",
    "    sw.Stop();\n",
    "    Console.WriteLine($\"List<T>: {sw.Elapsed.TotalMilliseconds} ms\");\n",
    "\n",
    "    // Span<T> version\n",
    "    var span = new Span<int>(array);\n",
    "    sw.Restart();\n",
    "    int sum2 = 0;\n",
    "    for (int i = 0; i < span.Length; i++)\n",
    "    {\n",
    "        sum2 += span[i];\n",
    "    }\n",
    "    sw.Stop();\n",
    "    Console.WriteLine($\"Span<T>: {sw.Elapsed.TotalMilliseconds} ms\");\n",
    "\n",
    "    Console.WriteLine($\"Sum1: {sum1}, Sum2: {sum2}\");\n",
    " }\n",
    "\n",
    "RunTest();\n"
   ]
  }
 ],
 "metadata": {
  "kernelspec": {
   "display_name": ".NET (C#)",
   "language": "C#",
   "name": ".net-csharp"
  },
  "polyglot_notebook": {
   "kernelInfo": {
    "defaultKernelName": "csharp",
    "items": [
     {
      "aliases": [
       "c#",
       "C#"
      ],
      "languageName": "C#",
      "name": "csharp"
     },
     {
      "aliases": [],
      "languageName": "Mermaid",
      "name": "mermaid"
     },
     {
      "aliases": [
       "frontend"
      ],
      "languageName": null,
      "name": "vscode"
     },
     {
      "aliases": [
       "js"
      ],
      "languageName": "JavaScript",
      "name": "javascript"
     },
     {
      "aliases": [],
      "name": "webview"
     },
     {
      "aliases": [],
      "languageName": "HTML",
      "name": "html"
     }
    ]
   }
  }
 },
 "nbformat": 4,
 "nbformat_minor": 2
}
